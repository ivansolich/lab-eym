{
 "cells": [
  {
   "metadata": {},
   "cell_type": "markdown",
   "source": [
    "### Ajuste de datos a modelo teorico\n",
    "\n",
    "Realizacion del ajuste exponenial mediante [**`np.curve.fit`**](np.curve.fit), obteniendo los parametros $V_0$ y $\\tau$ correspondientes al modelo de carga."
   ],
   "id": "f0dc486cbc72a56b"
  },
  {
   "metadata": {
    "ExecuteTime": {
     "end_time": "2024-05-24T05:30:39.115901Z",
     "start_time": "2024-05-24T05:30:38.936629Z"
    }
   },
   "cell_type": "code",
   "source": [
    "import numpy as np\n",
    "import matplotlib.pyplot as plt\n",
    "import pandas as pd\n",
    "import scipy as sp\n",
    "\n",
    "\n",
    "plt.rcParams['text.usetex'] = True\n",
    "\n",
    "# Generaciond de datos\n",
    "\n",
    "df1 = pd.read_excel(r\"datos.xlsx\", sheet_name=\"datos\",\n",
    "                    usecols=\"B\", skiprows=range(2), nrows=121, header=None)\n",
    "\n",
    "tiempoCarga = np.arange(0, 605, 5)\n",
    "voltajeCarga = df1.to_numpy().flatten().transpose()\n",
    "\n",
    "\n",
    "# Ajuste exponencial\n",
    "def modeloCarga(x, v0, tau):\n",
    "    return v0 * (1 - np.exp(-(1/tau) * x))\n",
    "\n",
    "params, pcov = sp.optimize.curve_fit(modeloCarga, tiempoCarga, voltajeCarga) # Coeficientes\n",
    "v0CargaAjuste, tauCargaAjuste = params\n",
    "print(\"V0CargaAjuste: \", v0CargaAjuste)\n",
    "print(\"tauCargaAjuste: \", tauCargaAjuste)\n",
    "pesoTauCarga = 1/pcov[1][1]\n",
    "\n",
    "incertidumbre = np.sqrt(np.diag(pcov)) # Calculo la desv stnd con la matriz de covarianza\n",
    "incertidumbreV0, incertidumbreTau = incertidumbre\n",
    "\n",
    "\n",
    "# Voltaje en funcion de tau\n",
    "\n",
    "vTau = modeloCarga(tauCargaAjuste, v0CargaAjuste, tauCargaAjuste) # Esto corresponderia al 63,2% de la carga\n",
    "\n",
    "# Graficacion\n",
    "\n",
    "if __name__ == \"__main__\":\n",
    "\n",
    "    fix, ax = plt.subplots()\n",
    "\n",
    "    # Utilizar fuente de Latex\n",
    "    plt.rcParams['mathtext.fontset'] = 'stix'\n",
    "    plt.rcParams['font.family'] = 'STIXGeneral'\n",
    "\n",
    "    ax.hlines(14.12, 0, 600, colors=\"black\", ls=\"--\", label=\"$V_{0}$\")\n",
    "    ax.plot(tiempoCarga, voltajeCarga, \"o\", color=\"black\", markersize=4, alpha=0.5)\n",
    "    ax.plot(tiempoCarga, modeloCarga(tiempoCarga, v0CargaAjuste, tauCargaAjuste), '-', color=\"tab:red\", markersize=4, alpha=0.5, label=\"Curva ajustada\")\n",
    "    ax.plot(tauCargaAjuste, vTau, \"o\", color=\"tab:green\", markersize=4, label =r\"$V(\\tau)$\")\n",
    "\n",
    "    plt.xlim(0, 600)\n",
    "    ax.legend(loc=\"center right\")\n",
    "    ax.set_xlabel(\"Tiempo [s]\")\n",
    "    ax.set_ylabel(\"Voltaje [V]\")\n",
    "    \n",
    "plt.show()\n"
   ],
   "id": "initial_id",
   "execution_count": 12,
   "outputs": []
  },
  {
   "metadata": {},
   "cell_type": "markdown",
   "source": "Realización del ajuste exponenial mediante [**`np.curve.fit`**](np.curve.fit), obteniendo los parametros $V_0$ y $\\tau$ correspondientes al modelo de descarga.",
   "id": "69bae4fe8893946f"
  },
  {
   "metadata": {},
   "cell_type": "markdown",
   "source": "",
   "id": "7bccc095df0ab474"
  },
  {
   "metadata": {
    "ExecuteTime": {
     "end_time": "2024-05-24T05:30:39.271119Z",
     "start_time": "2024-05-24T05:30:39.116903Z"
    }
   },
   "cell_type": "code",
   "source": [
    "\n",
    "df1 = pd.read_excel(r\"datos.xlsx\", sheet_name=\"datos\",\n",
    "                    usecols=\"D\", skiprows=range(2), nrows=61, header=None)\n",
    "\n",
    "voltajeDescarga = df1.to_numpy().flatten().transpose()\n",
    "tiempoDescarga = np.arange(0, 305, 5)\n",
    "\n",
    "\n",
    "# Ajuste exponencial\n",
    "def modeloDescarga(x, v0, tau):\n",
    "    return v0*np.exp(-x*(1/tau))\n",
    "\n",
    "params, pcov = sp.optimize.curve_fit(modeloDescarga, tiempoDescarga, voltajeDescarga) # Coeficientes\n",
    "v0DescargaAjuste, tauDescargaAjuste = params\n",
    "print(\"V0DescargaAjuste: \", v0DescargaAjuste)\n",
    "print(\"tauDescargaAjuste: \", tauDescargaAjuste)\n",
    "pesoTauDescarga = 1/pcov[1][1]\n",
    "incertidumbre = np.sqrt(np.diag(pcov)) # Calculo la desv stnd con la matriz de covarianza\n",
    "incertidumbreV0, incertidumbreTau = incertidumbre\n",
    "\n",
    "\n",
    "# Voltaje en funcion de tau\n",
    "\n",
    "vTau = modeloDescarga(tauDescargaAjuste, v0DescargaAjuste, tauDescargaAjuste)\n",
    "\n",
    "# Graficacion\n",
    "\n",
    "fix, ax = plt.subplots()\n",
    "\n",
    "# Utilizar fuente de Latex\n",
    "plt.rcParams['mathtext.fontset'] = 'stix'\n",
    "plt.rcParams['font.family'] = 'STIXGeneral'\n",
    "\n",
    "ax.hlines(0, 0, 300, colors=\"black\", ls=\"--\", label=\"$V_0$\")\n",
    "ax.plot(tiempoDescarga, voltajeDescarga, \"o\", color=\"black\", markersize=4, alpha=0.5)\n",
    "ax.plot(tiempoDescarga, modeloDescarga(tiempoDescarga, v0DescargaAjuste, tauDescargaAjuste), '-', color=\"tab:red\", markersize=4, alpha=0.5, label=\"Curva ajustada\")\n",
    "ax.plot(tauDescargaAjuste, vTau, \"o\", color=\"tab:green\", markersize=4, label =r\"$V(\\tau)$\")\n",
    "plt.xlim(0, 300)\n",
    "\n",
    "ax.legend(loc=\"center right\")\n",
    "ax.set_xlabel(\"Tiempo [s]\")\n",
    "ax.set_ylabel(\"Voltaje [V]\")\n",
    "\n",
    "\n",
    "plt.show()"
   ],
   "id": "6f1451082fc9a9b0",
   "execution_count": 13,
   "outputs": []
  },
  {
   "metadata": {},
   "cell_type": "markdown",
   "source": [
    "### Obtencion de la media ponderada de tau\n",
    "\n",
    "Para obtener una mejor estimacion usando ambos valores, se realiza la media ponderada siguiendo la ecuación\n",
    "\n",
    "$$\n",
    "  \\overline{\\tau}_w = \\frac{\\sum_{}^{i} \\tau_i w_i}{\\sum_{}^{i} w_i}\n",
    "$$"
   ],
   "id": "85b5077418677638"
  },
  {
   "metadata": {
    "ExecuteTime": {
     "end_time": "2024-05-24T05:30:39.275411Z",
     "start_time": "2024-05-24T05:30:39.271119Z"
    }
   },
   "cell_type": "code",
   "source": [
    "tau = np.array([tauCargaAjuste, tauDescargaAjuste])\n",
    "pesos = np.array([pesoTauCarga, pesoTauDescarga])\n",
    "\n",
    "def mediaPon(x, w):\n",
    "    return (x*w).sum()/w.sum()\n",
    "\n",
    "def devPon(w):\n",
    "    return np.sqrt(1/w.sum())\n",
    "\n",
    "mediaTau = mediaPon(tau, pesos)\n",
    "incertPon = devPon(pesos)\n",
    "print(\"mediaPon: \", mediaPon(tau, pesos))\n",
    "print(\"incertPon: \", incertPon)"
   ],
   "id": "5b0a47006c67d886",
   "execution_count": 14,
   "outputs": []
  },
  {
   "metadata": {},
   "cell_type": "markdown",
   "source": [
    "## Obtención del valor de la capacitancia C\n",
    "El valor de $R$ es conocido, siendo este igual a $46,4 k \\Omega$\n",
    "\n",
    "$$\n",
    "   \\tau = CR \\Rightarrow C = \\frac{\\tau}{R}\n",
    "$$"
   ],
   "id": "6e498ce1b76ffdc4"
  },
  {
   "metadata": {
    "ExecuteTime": {
     "end_time": "2024-05-24T05:30:39.279210Z",
     "start_time": "2024-05-24T05:30:39.276414Z"
    }
   },
   "cell_type": "code",
   "source": [
    "R = 46400 #ohm\n",
    "C = mediaTau / R\n",
    "print(C)"
   ],
   "id": "8591a535a0c4deb7",
   "execution_count": 15,
   "outputs": []
  },
  {
   "metadata": {},
   "cell_type": "markdown",
   "source": [
    "### Graficos de residuos de la carga\n",
    "\n",
    "Para validar el modelo, se realizan dos graficos, con el fin de ver la distribución respecto al cero."
   ],
   "id": "bc06f18c98cfb05e"
  },
  {
   "metadata": {
    "ExecuteTime": {
     "end_time": "2024-05-24T05:30:39.488817Z",
     "start_time": "2024-05-24T05:30:39.279210Z"
    }
   },
   "cell_type": "code",
   "source": [
    "plt.rcParams['text.usetex'] = True\n",
    "\n",
    "# Ajuste exponencial\n",
    "def modeloCarga(x, a, tau):\n",
    "    return a * (1 - np.exp(-(1/tau) * x))\n",
    "\n",
    "params,_ = sp.optimize.curve_fit(modeloCarga, tiempoCarga, voltajeCarga) # Coeficientes\n",
    "vPredichoCarga = modeloCarga(tiempoCarga, v0CargaAjuste,tauCargaAjuste)\n",
    "residuosCarga = voltajeCarga - vPredichoCarga\n",
    "mediaResiduos = np.mean(residuosCarga)\n",
    "\n",
    "# Graficacion\n",
    "\n",
    "fig, (ax1,ax2) = plt.subplots(nrows=1, ncols=2,figsize=(10.5,4))\n",
    "\n",
    "# Utilizar fuente de Latex\n",
    "plt.rcParams['mathtext.fontset'] = 'stix'\n",
    "plt.rcParams['font.family'] = 'STIXGeneral'\n",
    "\n",
    "ax1.hlines(0, vPredichoCarga.min(), vPredichoCarga.max())\n",
    "ax1.plot(vPredichoCarga, residuosCarga, \"o\", color=\"black\", markersize=4)\n",
    "ax1.set_xlabel(\"Valores Ajustados\")\n",
    "ax1.set_ylabel(\"Residuos\")\n",
    "#ax1.set_ylim([residuos.min()-0.11, residuos.max()+0.01])\n",
    "\n",
    "ax2.hlines(0, tiempoCarga.min(), tiempoCarga.max())\n",
    "ax2.plot(tiempoCarga, residuosCarga, \"o\", color=\"black\", markersize=4)\n",
    "ax2.set_ylabel(\"Residuos\")\n",
    "ax2.set_xlabel(\"Tiempo [s]\")\n",
    "\n",
    "plt.tight_layout()\n",
    "\n",
    "plt.show()"
   ],
   "id": "74f6129621758aa2",
   "execution_count": 16,
   "outputs": []
  },
  {
   "metadata": {},
   "cell_type": "markdown",
   "source": "### Graficos de residuos de la descarga",
   "id": "92cd3edada76a28"
  },
  {
   "metadata": {
    "ExecuteTime": {
     "end_time": "2024-05-24T05:30:39.770291Z",
     "start_time": "2024-05-24T05:30:39.488817Z"
    }
   },
   "cell_type": "code",
   "source": [
    "plt.rcParams['text.usetex'] = True\n",
    "\n",
    "# Generaciond de datos\n",
    "\n",
    "df1 = pd.read_excel(r\"F:\\Facultad\\Laboratorios\\EyM\\Lab2\\datos.xlsx\", sheet_name=\"datos\",\n",
    "                    usecols=\"D\", skiprows=range(2), nrows=61, header=None)\n",
    "\n",
    "tiempoDescarga = np.arange(0, 305, 5)\n",
    "voltajeDescarga = df1.to_numpy().flatten().transpose()\n",
    "\n",
    "# Ajuste exponencial\n",
    "def modeloDescarga(x, v0, tau):\n",
    "    return v0 * np.exp(-x * (1 / tau))\n",
    "\n",
    "\n",
    "params, _ = sp.optimize.curve_fit(modeloDescarga, tiempoDescarga, voltajeDescarga)  # Coeficientes\n",
    "v0Ajuste, tauAjuste = params\n",
    "vPredicho = modeloDescarga(tiempoDescarga, v0Ajuste, tauAjuste)\n",
    "residuos = voltajeDescarga - vPredicho\n",
    "\n",
    "# Graficacion\n",
    "\n",
    "fig, (ax1,ax2) = plt.subplots(nrows=1, ncols=2,figsize=(10.5,4))\n",
    "\n",
    "# Utilizar fuente de Latex\n",
    "plt.rcParams['mathtext.fontset'] = 'stix'\n",
    "plt.rcParams['font.family'] = 'STIXGeneral'\n",
    "\n",
    "ax1.hlines(0, vPredicho.min(), vPredicho.max())\n",
    "ax1.plot(vPredicho, residuos, \"o\", color=\"black\", markersize=4)\n",
    "ax1.set_xlabel(\"Valores Ajustados\")\n",
    "ax1.set_ylabel(\"Residuos\")\n",
    "\n",
    "ax2.hlines(0, tiempoDescarga.min(), tiempoDescarga.max())\n",
    "ax2.plot(tiempoDescarga, residuos, \"o\", color=\"black\", markersize=4)\n",
    "ax2.set_ylabel(\"Residuos\")\n",
    "ax2.set_xlabel(\"Tiempo [s]\")\n",
    "\n",
    "plt.tight_layout()\n",
    "\n",
    "\n",
    "plt.show()"
   ],
   "id": "e17780a84da2f0da",
   "execution_count": 17,
   "outputs": []
  },
  {
   "metadata": {},
   "cell_type": "markdown",
   "source": [
    "### Coeficiente de Determinación $R^2$\n",
    "\n",
    "Se calcula como dato extra, no se suele utilizar en modelos exponenciales\n",
    "\n",
    "$$\n",
    "\n",
    "R^2 = 1 - \\frac{\\sum_{i=1}^N (V_{\\text{exp}, i} - V_{\\text{pred}, i})^2}{\\sum_{i=1}^N (V_{\\text{exp}, i} - \\overline{V}_{\\text{exp}})^2}\n",
    "\n",
    "$$"
   ],
   "id": "a3e84a4b96a61e26"
  },
  {
   "metadata": {
    "ExecuteTime": {
     "end_time": "2024-05-24T05:30:39.773925Z",
     "start_time": "2024-05-24T05:30:39.770291Z"
    }
   },
   "cell_type": "code",
   "source": [
    "vCargaMedia = np.average(voltajeCarga)\n",
    "r2Carga = 1 - (sum((voltajeCarga-modeloCarga(tiempoCarga,v0CargaAjuste,tauCargaAjuste))**2)/sum((voltajeCarga-vCargaMedia)**2))\n",
    "print(\"r2Carga: \", r2Carga)\n",
    "\n",
    "vDescargaMedia = np.average(voltajeDescarga)\n",
    "r2Descarga = 1 - (sum((voltajeDescarga-modeloDescarga(tiempoDescarga,v0DescargaAjuste,tauDescargaAjuste))**2)/sum((voltajeDescarga-vDescargaMedia)**2))\n",
    "print(\"r2Descarga: \", r2Descarga)\n"
   ],
   "id": "f21fd8850ad906f3",
   "execution_count": 18,
   "outputs": []
  }
 ],
 "metadata": {
  "kernelspec": {
   "display_name": "Python 3",
   "language": "python",
   "name": "python3"
  },
  "language_info": {
   "codemirror_mode": {
    "name": "ipython",
    "version": 2
   },
   "file_extension": ".py",
   "mimetype": "text/x-python",
   "name": "python",
   "nbconvert_exporter": "python",
   "pygments_lexer": "ipython2",
   "version": "2.7.6"
  }
 },
 "nbformat": 4,
 "nbformat_minor": 5
}
