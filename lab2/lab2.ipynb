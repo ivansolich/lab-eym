{
 "cells": [
  {
   "metadata": {},
   "cell_type": "markdown",
   "source": "",
   "id": "43a583331df4860a"
  },
  {
   "metadata": {
    "ExecuteTime": {
     "end_time": "2024-05-21T03:52:08.062779Z",
     "start_time": "2024-05-21T03:52:07.895331Z"
    }
   },
   "cell_type": "code",
   "source": [
    "import numpy as np\n",
    "import matplotlib.pyplot as plt\n",
    "import pandas as pd\n",
    "import scipy as sp\n",
    "import warnings\n",
    "warnings.filterwarnings('ignore')\n",
    "\n",
    "plt.rcParams['text.usetex'] = True\n",
    "\n",
    "# Generaciond de datos\n",
    "\n",
    "df1 = pd.read_excel(r\"F:\\Facultad\\Laboratorios\\EyM\\Lab2\\datos.xlsx\", sheet_name=\"datos\",\n",
    "                    usecols=\"B\", skiprows=range(2), nrows=121, header=None)\n",
    "\n",
    "tiempoCarga = np.arange(0, 605, 5)\n",
    "voltajeCarga = df1.to_numpy().flatten().transpose()\n",
    "\n",
    "voltajeFuente = 14.12\n",
    "v_tau = voltajeCarga[-1] * 0.632  # %63,2 de carga de la fuente\n",
    "interp = np.interp(8.4688, voltajeCarga, tiempoCarga)\n",
    "\n",
    "\n",
    "# Ajuste exponencial\n",
    "def func(x, a, b):\n",
    "    return a * (1 - np.exp(-b * x))\n",
    "\n",
    "\n",
    "fit = sp.optimize.curve_fit(func, tiempoCarga, voltajeCarga) # Coeficientes\n",
    "\n",
    "\n",
    "# Graficacion\n",
    "\n",
    "fix, ax = plt.subplots()\n",
    "\n",
    "# Utilizar fuente de Latex\n",
    "plt.rcParams['mathtext.fontset'] = 'stix'\n",
    "plt.rcParams['font.family'] = 'STIXGeneral'\n",
    "\n",
    "ax.hlines(voltajeFuente, 0, 600, colors=\"black\", ls=\"--\", label=\"Voltaje de la fuente = 14,12 V\")\n",
    "ax.plot(tiempoCarga, voltajeCarga, \"o\", color=\"black\", markersize=4, alpha=0.5)\n",
    "ax.plot(tiempoCarga, func(tiempoCarga,fit[0][0],fit[0][1]), '-', color=\"tab:red\", markersize=4, alpha=0.5,label=\"Curva ajustada\")\n",
    "plt.xlim(0, 600)\n",
    "\n",
    "ax.legend(loc=\"center right\")\n",
    "ax.set_xlabel(\"Tiempo [s]\")\n",
    "ax.set_ylabel(\"Voltaje [V]\")\n",
    "\n",
    "plt.show()\n"
   ],
   "id": "initial_id",
   "execution_count": 2,
   "outputs": []
  }
 ],
 "metadata": {
  "kernelspec": {
   "display_name": "Python 3",
   "language": "python",
   "name": "python3"
  },
  "language_info": {
   "codemirror_mode": {
    "name": "ipython",
    "version": 2
   },
   "file_extension": ".py",
   "mimetype": "text/x-python",
   "name": "python",
   "nbconvert_exporter": "python",
   "pygments_lexer": "ipython2",
   "version": "2.7.6"
  }
 },
 "nbformat": 4,
 "nbformat_minor": 5
}
